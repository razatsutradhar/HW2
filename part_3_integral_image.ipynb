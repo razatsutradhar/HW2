{
 "cells": [
  {
   "cell_type": "code",
   "execution_count": null,
   "metadata": {},
   "outputs": [],
   "source": [
    "import numpy as np\n",
    "import cv2 as cv\n"
   ]
  },
  {
   "cell_type": "code",
   "execution_count": null,
   "metadata": {},
   "outputs": [],
   "source": [
    "def standard_resize(img):\n",
    "    img = cv.resize(img, (780, 540),\n",
    "                interpolation = cv.INTER_LINEAR)\n",
    "    return img "
   ]
  },
  {
   "cell_type": "code",
   "execution_count": null,
   "metadata": {},
   "outputs": [],
   "source": [
    "img = cv.imread('box1.jpg')\n",
    "img = standard_resize(img)\n",
    "img = np.array(img, dtype=np.float32)\n",
    "\n",
    "integral_img = np.cumsum(img, axis=1).cumsum(axis=0)\n",
    "\n",
    "\n",
    "integral_img = cv.normalize(src=integral_img, dst=None, alpha=0, beta=255, norm_type=cv.NORM_MINMAX, dtype=cv.CV_8UC1)\n",
    "img = np.uint8(img)\n",
    "integral_img = np.uint8(integral_img)\n",
    "cv.imshow('integral image', integral_img)\n",
    "cv.imshow('img', img)\n",
    "\n",
    "key = cv.waitKey(1)\n",
    "if key == ord('q'):\n",
    "    pass\n",
    "# cv.destroyAllWindows()"
   ]
  },
  {
   "cell_type": "code",
   "execution_count": null,
   "metadata": {},
   "outputs": [],
   "source": [
    "cv.destroyAllWindows()"
   ]
  }
 ],
 "metadata": {
  "kernelspec": {
   "display_name": "Python 3.10.2 64-bit",
   "language": "python",
   "name": "python3"
  },
  "language_info": {
   "codemirror_mode": {
    "name": "ipython",
    "version": 3
   },
   "file_extension": ".py",
   "mimetype": "text/x-python",
   "name": "python",
   "nbconvert_exporter": "python",
   "pygments_lexer": "ipython3",
   "version": "3.10.2"
  },
  "orig_nbformat": 4,
  "vscode": {
   "interpreter": {
    "hash": "369f2c481f4da34e4445cda3fffd2e751bd1c4d706f27375911949ba6bb62e1c"
   }
  }
 },
 "nbformat": 4,
 "nbformat_minor": 2
}
