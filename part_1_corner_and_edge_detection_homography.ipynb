{
 "cells": [
  {
   "cell_type": "code",
   "execution_count": 1,
   "metadata": {},
   "outputs": [],
   "source": [
    "import numpy as np\n",
    "import cv2 as cv"
   ]
  },
  {
   "cell_type": "code",
   "execution_count": 2,
   "metadata": {},
   "outputs": [],
   "source": [
    "def display_image(img):\n",
    "    cv.imshow('image',img)\n",
    "    if cv.waitKey(0) & 0xff == ord('q'):\n",
    "        cv.destroyAllWindows()\n",
    "\n",
    "def corner_harris(img, dist_thresh=.01):\n",
    "    gray = cv.cvtColor(img,cv.COLOR_BGR2GRAY)\n",
    "    gray = np.float32(gray)\n",
    "    dst = cv.cornerHarris(gray,2,3,0.04)\n",
    "    #result is dilated for marking the corners, not important\n",
    "    dst = cv.dilate(dst,None)\n",
    "    # Threshold for an optimal value, it may vary depending on the image.\n",
    "    img[dst>dist_thresh*dst.max()]=[0,0,255]\n",
    "    cv.imshow('Harris_Corner',img)\n",
    "\n",
    "corner_harris(cv.imread('box1.jpg'))\n",
    "    "
   ]
  },
  {
   "cell_type": "code",
   "execution_count": 3,
   "metadata": {},
   "outputs": [],
   "source": [
    "#canny edge detection\n",
    "filename = 'box1.jpg'\n",
    "img = cv.imread(filename)\n",
    "  \n",
    "# Setting parameter values\n",
    "t_lower = 50  # Lower Threshold\n",
    "t_upper = 150  # Upper threshold\n",
    "  \n",
    "# Applying the Canny Edge filter\n",
    "edge = cv.Canny(img, t_lower, t_upper)\n",
    "  \n",
    "cv.imshow('original', img)\n",
    "cv.imshow('edge', edge)\n",
    "cv.waitKey(0)\n",
    "cv.destroyAllWindows()"
   ]
  },
  {
   "cell_type": "code",
   "execution_count": 4,
   "metadata": {},
   "outputs": [],
   "source": [
    "image = cv.imread('box1.jpg')\n",
    "image = cv.resize(image, (780, 540),\n",
    "               interpolation = cv.INTER_LINEAR)\n",
    "# display_image(image)\n",
    "\n",
    "d = .1\n",
    "corner_harris(image.copy(), d)\n",
    "if cv.waitKey(0) & 0xff == ord('q'):\n",
    "    cv.destroyAllWindows()\n",
    "\n",
    "\n",
    "def standard_resize(img):\n",
    "    img = cv.resize(img, (780, 540),\n",
    "                interpolation = cv.INTER_LINEAR)\n",
    "    return img \n",
    "img = cv.imread('box2.jpg')\n",
    "img = standard_resize(img)\n",
    "\n",
    "\n",
    "#print x and y when clicked on screen\n",
    "def click_event(event, x, y, flags, param):\n",
    "    if event == cv.EVENT_LBUTTONDOWN:\n",
    "        print(x, ' ', y)\n",
    "        font = cv.FONT_HERSHEY_SIMPLEX\n",
    "        strXY = str(x) + ', ' + str(y)\n",
    "        cv.putText(img, strXY, (x,y), font, .5, (255,255,0), 2)\n",
    "        cv.imshow('image', img)\n",
    "    if event == cv.EVENT_RBUTTONDOWN:\n",
    "        blue = img[y,x,0]\n",
    "        green = img[y,x,1]\n",
    "        red = img[y,x,2]\n",
    "        font = cv.FONT_HERSHEY_SIMPLEX\n",
    "        strBGR = str(blue) + ', ' + str(green) + ', ' + str(red)\n",
    "        cv.putText(img, strBGR, (x,y), font, .5, (0,255,255), 2)\n",
    "        cv.imshow('image', img)\n",
    "\n",
    "cv.namedWindow('image')\n",
    "cv.setMouseCallback('image', click_event)\n",
    "\n",
    "while True:\n",
    "    cv.imshow('image', img)\n",
    "    if cv.waitKey(20) & 0xFF == ord('q'):\n",
    "        cv.destroyAllWindows()\n",
    "        break\n",
    "\n",
    "cv.namedWindow('image')\n",
    "cv.setMouseCallback('image', click_event)\n",
    "img = cv.imread('box1.jpg')\n",
    "img = standard_resize(img)\n",
    "while True:\n",
    "    cv.imshow('image', img)\n",
    "    if cv.waitKey(20) & 0xFF == ord('q'):\n",
    "        cv.destroyAllWindows()\n",
    "        break\n",
    "    "
   ]
  },
  {
   "cell_type": "code",
   "execution_count": null,
   "metadata": {},
   "outputs": [],
   "source": [
    "box2_corners = np.array([[154, 189], [427, 186], [102, 302], [425, 304]])\n",
    "box1_corners = np.array([[287, 204], [609, 259], [250, 391], [604, 453]])\n"
   ]
  },
  {
   "cell_type": "code",
   "execution_count": null,
   "metadata": {},
   "outputs": [],
   "source": [
    "#homography matrix\n",
    "\n",
    "def homography_matrix(box1_corners, box2_corners):\n",
    "    #find homography matrix\n",
    "    h, status = cv.findHomography(box1_corners, box2_corners)\n",
    "    return h\n",
    "\n",
    "\n",
    "#apply homography matrix to image\n",
    "def apply_homography(img, h):\n",
    "    img = cv.warpPerspective(img, h, (img.shape[1], img.shape[0]))\n",
    "    return img\n",
    "\n",
    "img = cv.imread('box1.jpg')\n",
    "img = standard_resize(img)\n",
    "h = homography_matrix(box1_corners,box2_corners)\n",
    "img = apply_homography(img, h)\n",
    "cv.imshow('image', img)\n",
    "if cv.waitKey(0) & 0xff == ord('q'):\n",
    "    cv.destroyAllWindows()\n"
   ]
  },
  {
   "cell_type": "code",
   "execution_count": null,
   "metadata": {},
   "outputs": [],
   "source": [
    "cv.destroyAllWindows()"
   ]
  }
 ],
 "metadata": {
  "kernelspec": {
   "display_name": "Python 3.10.2 64-bit",
   "language": "python",
   "name": "python3"
  },
  "language_info": {
   "codemirror_mode": {
    "name": "ipython",
    "version": 3
   },
   "file_extension": ".py",
   "mimetype": "text/x-python",
   "name": "python",
   "nbconvert_exporter": "python",
   "pygments_lexer": "ipython3",
   "version": "3.10.2"
  },
  "orig_nbformat": 4,
  "vscode": {
   "interpreter": {
    "hash": "369f2c481f4da34e4445cda3fffd2e751bd1c4d706f27375911949ba6bb62e1c"
   }
  }
 },
 "nbformat": 4,
 "nbformat_minor": 2
}
