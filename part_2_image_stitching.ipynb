{
 "cells": [
  {
   "cell_type": "code",
   "execution_count": 1,
   "metadata": {},
   "outputs": [],
   "source": [
    "import numpy as np\n",
    "import cv2 as cv\n",
    "import argparse\n",
    "import sys\n",
    "import glob"
   ]
  },
  {
   "cell_type": "code",
   "execution_count": 2,
   "metadata": {},
   "outputs": [],
   "source": [
    "def stitch(path):\n",
    "    #Define the number of images to be stitched\n",
    "    num_images = 3\n",
    "    #relevant_files = filter(lambda name: name.startswith('rialto'), glob.glob('gsu_buildings\\*.png'))\n",
    "    images = glob.glob(path+'\\*')\n",
    "\n",
    "    pictures = []\n",
    "    #Show Images inside image folder\n",
    "    for i in range(len(images)):\n",
    "        img = cv.imread(images[i])\n",
    "        pictures.append(img)\n",
    "    \n",
    "    stitchy=cv.Stitcher.create()\n",
    "    (dummy,output)=stitchy.stitch(pictures)\n",
    "    \n",
    "    if dummy != cv.STITCHER_OK:\n",
    "        print(\"stitching ain't successful\")\n",
    "    else:\n",
    "        print('Your Panorama is ready!!!')\n",
    "    cv.imwrite('panorama\\\\'+path+'.png', output)\n",
    "    print(\"stitching completed successfully. %s saved!\" % 'rialto_panorama.png')\n"
   ]
  },
  {
   "cell_type": "code",
   "execution_count": 3,
   "metadata": {},
   "outputs": [
    {
     "name": "stdout",
     "output_type": "stream",
     "text": [
      "Your Panorama is ready!!!\n",
      "stitching completed successfully. rialto_panorama.png saved!\n",
      "Your Panorama is ready!!!\n",
      "stitching completed successfully. rialto_panorama.png saved!\n",
      "Your Panorama is ready!!!\n",
      "stitching completed successfully. rialto_panorama.png saved!\n",
      "Your Panorama is ready!!!\n",
      "stitching completed successfully. rialto_panorama.png saved!\n",
      "Your Panorama is ready!!!\n",
      "stitching completed successfully. rialto_panorama.png saved!\n"
     ]
    }
   ],
   "source": [
    "stitch('rialto')\n",
    "stitch('aah')\n",
    "stitch('dahlberg')\n",
    "stitch('library')\n",
    "stitch('CMII')"
   ]
  }
 ],
 "metadata": {
  "kernelspec": {
   "display_name": "Python 3.9.7 ('base')",
   "language": "python",
   "name": "python3"
  },
  "language_info": {
   "codemirror_mode": {
    "name": "ipython",
    "version": 3
   },
   "file_extension": ".py",
   "mimetype": "text/x-python",
   "name": "python",
   "nbconvert_exporter": "python",
   "pygments_lexer": "ipython3",
   "version": "3.9.7"
  },
  "orig_nbformat": 4,
  "vscode": {
   "interpreter": {
    "hash": "5a2fc1ab052b5ea03d35687895d874e32b6880721a9faa143e63f12bf35bd2cd"
   }
  }
 },
 "nbformat": 4,
 "nbformat_minor": 2
}
